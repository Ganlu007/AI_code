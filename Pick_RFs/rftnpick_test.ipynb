{
 "cells": [
  {
   "cell_type": "code",
   "execution_count": 1,
   "metadata": {},
   "outputs": [
    {
     "name": "stdout",
     "output_type": "stream",
     "text": [
      "WARNING:tensorflow:From D:\\Anaconda3\\envs\\tf\\lib\\site-packages\\tensorflow_core\\python\\compat\\v2_compat.py:65: disable_resource_variables (from tensorflow.python.ops.variable_scope) is deprecated and will be removed in a future version.\n",
      "Instructions for updating:\n",
      "non-resource variables are not supported in the long term\n"
     ]
    }
   ],
   "source": [
    "import pandas as pd\n",
    "import numpy as np\n",
    "#import tensorflow as tf\n",
    "import tensorflow.compat.v1 as tf\n",
    "tf.disable_v2_behavior()\n",
    "import matplotlib\n",
    "import matplotlib.pyplot as plt\n",
    "import matplotlib.mlab as mlab  \n",
    "from sklearn.decomposition import PCA\n",
    "from sklearn.model_selection import train_test_split\n",
    "from scipy.interpolate import interp1d"
   ]
  },
  {
   "cell_type": "code",
   "execution_count": 11,
   "metadata": {},
   "outputs": [],
   "source": [
    "def reset_graph(seed=42):\n",
    "    tf.reset_default_graph()\n",
    "    tf.set_random_seed(seed)\n",
    "    np.random.seed(seed)\n",
    "\t\n",
    "height = 419\n",
    "width = 1\n",
    "channels = 1\n",
    "n_inputs = height * width\n",
    "\n",
    "conv1_fmaps = 16\n",
    "conv1_ksize = 3\n",
    "conv1_stride = 1\n",
    "conv1_pad = \"SAME\"\n",
    "\n",
    "conv2_fmaps = 32\n",
    "conv2_ksize = 3\n",
    "conv2_stride = 2\n",
    "conv2_pad = \"SAME\"\n",
    "\n",
    "conv3_fmaps = 64\n",
    "conv3_ksize = 3\n",
    "conv3_stride = 2\n",
    "conv3_pad = \"SAME\"\n",
    "\n",
    "\n",
    "pool3_fmaps = conv2_fmaps\n",
    "\n",
    "\n",
    "n_fc1 = 150\n",
    "n_outputs = 2\n",
    "\n",
    "reset_graph()\n",
    "\n",
    "with tf.name_scope(\"inputs\"):\n",
    "    X = tf.placeholder(tf.float32, shape=[None, n_inputs], name=\"X\")\n",
    "    X_reshaped = tf.reshape(X, shape=[-1, height, width, channels])\n",
    "    y = tf.placeholder(tf.int32, shape=[None], name=\"y\")\n",
    "    keep_prob= tf.placeholder(tf.float32, shape=[], name=\"regularizer\")\n",
    "\n",
    "    X_drop=tf.nn.dropout(X,keep_prob)\n",
    "#conv1_ksize size of filter\n",
    "#conv1_stride step of filter\n",
    "#padding weather boundary is exist \n",
    "\n",
    "conv1 = tf.layers.conv2d(X_reshaped, filters=conv1_fmaps, kernel_size=[conv1_ksize,1],\n",
    "                         strides=conv1_stride, padding=conv1_pad,\n",
    "                         activation=tf.nn.elu, name=\"conv1\")\n",
    "pool1 = tf.nn.max_pool(conv1, ksize=[1, 2, 1, 1], strides=[1, 2, 1, 1], padding=\"VALID\")\n",
    "\n",
    "\n",
    "conv2 = tf.layers.conv2d(pool1, filters=conv2_fmaps, kernel_size=[conv2_ksize,1],\n",
    "                         strides=conv2_stride, padding=conv2_pad,\n",
    "                         activation=tf.nn.elu, name=\"conv2\")\n",
    "conv2_drop=tf.nn.dropout(conv2,keep_prob)\n",
    "pool2 = tf.nn.max_pool(conv2_drop, ksize=[1, 2, 1, 1], strides=[1, 2, 1, 1], padding=\"VALID\")\n",
    "\n",
    "conv3 = tf.layers.conv2d(pool2, filters=conv3_fmaps, kernel_size=[conv3_ksize,1],\n",
    "                         strides=conv3_stride, padding=conv3_pad,\n",
    "                         activation=tf.nn.elu, name=\"conv3\")\n",
    "conv3_drop=tf.nn.dropout(conv3,keep_prob)\n",
    "pool3 = tf.nn.max_pool(conv3_drop, ksize=[1, 2, 1, 1], strides=[1, 2, 1, 1], padding=\"VALID\")\n",
    "\n",
    "pool3_flat = tf.reshape(pool3, shape=[-1, pool3.shape[1]*pool3.shape[2]*pool3.shape[3]])\n",
    "\n",
    "\n",
    "\n",
    "\n",
    "with tf.name_scope(\"fc1\"):\n",
    "    fc1 = tf.layers.dense(pool3_flat, n_fc1, activation=tf.nn.elu, name=\"fc1\")\n",
    "    fc1_drop=tf.nn.dropout(fc1,keep_prob)\n",
    "with tf.name_scope(\"output\"):\n",
    "    logits = tf.layers.dense(fc1_drop, n_outputs, name=\"output\")\n",
    "    Y_proba = tf.nn.softmax(logits, name=\"Y_proba\")\n",
    "\n",
    "with tf.name_scope(\"train\"):\n",
    "    xentropy = tf.nn.sparse_softmax_cross_entropy_with_logits(logits=logits, labels=y,name='obj-function')\n",
    "    loss = tf.reduce_mean(xentropy)\n",
    "    optimizer = tf.train.AdamOptimizer()\n",
    "    training_op = optimizer.minimize(loss)\n",
    "\n",
    "with tf.name_scope(\"eval\"):\n",
    "    correct = tf.nn.in_top_k(logits, y, 1)\n",
    "    accuracy = tf.reduce_mean(tf.cast(correct, tf.float32))"
   ]
  },
  {
   "cell_type": "code",
   "execution_count": 9,
   "metadata": {},
   "outputs": [
    {
     "name": "stdout",
     "output_type": "stream",
     "text": [
      "Tensor(\"inputs/X:0\", shape=(?, 419), dtype=float32)\n",
      "Tensor(\"inputs/Reshape:0\", shape=(?, 419, 1, 1), dtype=float32)\n",
      "Tensor(\"conv1/Elu:0\", shape=(?, 419, 1, 32), dtype=float32)\n",
      "Tensor(\"conv2/Elu:0\", shape=(?, 210, 1, 64), dtype=float32)\n",
      "Tensor(\"pool3/MaxPool:0\", shape=(?, 105, 1, 64), dtype=float32)\n",
      "Tensor(\"pool3/Reshape:0\", shape=(?, 6720), dtype=float32)\n"
     ]
    }
   ],
   "source": [
    "sess = tf.Session()\n",
    "sess.run(tf.global_variables_initializer())\n",
    "writer = tf.summary.FileWriter(\"logs/\", sess.graph)    \n",
    "print(X)\n",
    "print(X_reshaped)\n",
    "print(conv1)\n",
    "print(conv2)\n",
    "print(pool3)\n",
    "print(pool3_flat)\n",
    "\n",
    "\n",
    "def Scaler(x1):\n",
    "    x=x1[1:]\n",
    "    maximun=max(x)\n",
    "    minimun=min(x)\n",
    "    for i in range(len(x)):\n",
    "        x[i]=(x[i]-minimun)/(maximun-minimun)\n",
    "        x1[i+1]=x[i]*0.99+0.01\n",
    "    return x1\n",
    "    \n",
    "def prodata(train_data_list):\n",
    "    data=[]\n",
    "    for record in train_data_list:\n",
    "        all_value=record.split(',')\n",
    "        #print((all_value))\n",
    "        inputs=(np.asfarray(all_value))\n",
    "        #inputs=Scaler(inputs)\n",
    "        data.append(inputs)\n",
    "    return np.array(data)\n",
    "\n",
    "\n",
    "\n",
    "data_file=open('traindata_r.dat','r')\n",
    "data_list=data_file.readlines()\n",
    "data_file.close()\n",
    "\n",
    "test_data=prodata(data_list)\n",
    "\n",
    "\n",
    "X_test = test_data[:,1:].astype(np.float32)\n",
    "y_test = test_data[:,0].astype(np.int32)\n",
    "\n",
    "\n",
    "\n",
    "\n",
    "# saver = tf.train.Saver()\n",
    "# with tf.Session() as sess:\n",
    "#     saver.restore(sess,'model/RFTN3-2.21.ckpt')\n",
    "\n",
    "#     n_epochs = 40\n",
    "#     accuracy_test = sess.run(accuracy,feed_dict={X: X_test, y: y_test,keep_prob:1.0})\n",
    "#     proba = sess.run(Y_proba,feed_dict={X: X_test, y: y_test,keep_prob:1.0})\n",
    "#     logit_out = sess.run(logits,feed_dict={X: X_test, y: y_test,keep_prob:1.0})\n",
    "# print(accuracy_test)\n"
   ]
  },
  {
   "cell_type": "code",
   "execution_count": 15,
   "metadata": {},
   "outputs": [
    {
     "name": "stdout",
     "output_type": "stream",
     "text": [
      "INFO:tensorflow:Restoring parameters from model/RFTN3-2.21.ckpt\n",
      "0.9633795\n"
     ]
    }
   ],
   "source": [
    "saver = tf.train.Saver()\n",
    "with tf.Session() as sess:\n",
    "    saver.restore(sess,'model/RFTN3-2.21.ckpt')\n",
    "    n_epochs = 40\n",
    "    accuracy_test = sess.run(accuracy,feed_dict={X: X_test, y: y_test,keep_prob:1.0})\n",
    "    proba = sess.run(Y_proba,feed_dict={X: X_test, y: y_test,keep_prob:1.0})\n",
    "    logit_out = sess.run(logits,feed_dict={X: X_test, y: y_test,keep_prob:1.0})\n",
    "    print(accuracy_test)"
   ]
  },
  {
   "cell_type": "code",
   "execution_count": null,
   "metadata": {},
   "outputs": [],
   "source": []
  },
  {
   "cell_type": "code",
   "execution_count": null,
   "metadata": {},
   "outputs": [],
   "source": [
    "\n"
   ]
  },
  {
   "cell_type": "code",
   "execution_count": null,
   "metadata": {},
   "outputs": [],
   "source": []
  }
 ],
 "metadata": {
  "kernelspec": {
   "display_name": "Python 3",
   "language": "python",
   "name": "python3"
  },
  "language_info": {
   "codemirror_mode": {
    "name": "ipython",
    "version": 3
   },
   "file_extension": ".py",
   "mimetype": "text/x-python",
   "name": "python",
   "nbconvert_exporter": "python",
   "pygments_lexer": "ipython3",
   "version": "3.7.10"
  }
 },
 "nbformat": 4,
 "nbformat_minor": 4
}

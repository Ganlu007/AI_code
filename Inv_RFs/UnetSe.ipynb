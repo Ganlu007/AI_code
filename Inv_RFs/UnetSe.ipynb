{
 "cells": [
  {
   "cell_type": "code",
   "execution_count": 1,
   "metadata": {},
   "outputs": [
    {
     "name": "stdout",
     "output_type": "stream",
     "text": [
      "WARNING:tensorflow:From D:\\Anaconda3\\envs\\tensorflow\\lib\\site-packages\\tensorflow_core\\python\\compat\\v2_compat.py:65: disable_resource_variables (from tensorflow.python.ops.variable_scope) is deprecated and will be removed in a future version.\n",
      "Instructions for updating:\n",
      "non-resource variables are not supported in the long term\n"
     ]
    }
   ],
   "source": [
    "import pandas as pd\n",
    "import numpy as np\n",
    "#import tensorflow as tf\n",
    "import tensorflow.compat.v1 as tf\n",
    "tf.disable_v2_behavior()\n",
    "import matplotlib\n",
    "import matplotlib.pyplot as plt\n",
    "import matplotlib.mlab as mlab  \n",
    "from sklearn.decomposition import PCA\n",
    "from sklearn.model_selection import train_test_split\n",
    "from scipy.interpolate import interp1d"
   ]
  },
  {
   "cell_type": "code",
   "execution_count": null,
   "metadata": {},
   "outputs": [],
   "source": []
  },
  {
   "cell_type": "code",
   "execution_count": 3,
   "metadata": {},
   "outputs": [],
   "source": [
    "def intepmod1D(y):\n",
    "    N=59\n",
    "    dep=[]\n",
    "    s=0.0\n",
    "    for i in range(N):\n",
    "        dep.append(s)\n",
    "        if(i<20):\n",
    "            s=s+0.2\n",
    "        elif(i<40):\n",
    "            s=s+1\n",
    "        else:\n",
    "            s=s+2.0 \n",
    "    \n",
    "    #print(len(x),len(y))\n",
    "    cs = interp1d(dep, y,kind='cubic')\n",
    "    xs = np.linspace(0,60,80)\n",
    "    ys=cs(xs)\n",
    "    return ys\n",
    "\n",
    "def intepsw1D(y):\n",
    "    x=np.linspace(4, 34, 16)\n",
    "    #print(len(x),len(y))\n",
    "    cs = interp1d(x, y,kind='cubic')\n",
    "    xs = np.linspace(4,34,80)\n",
    "    ys=cs(xs)\n",
    "    #print(x)\n",
    "    return ys\n",
    "def inteprftn(y):\n",
    "    x=np.linspace(0, 299, 299)\n",
    "    #print(len(x),len(y))\n",
    "    cs = interp1d(x, y,kind='cubic')\n",
    "    xs = np.linspace(0,299,80)\n",
    "    ys=cs(xs)\n",
    "    #print(x)\n",
    "    return ys\n",
    "def get_tran_test_data(data):   \n",
    "    X_sw=[]\n",
    "    X_rf=[]\n",
    "    y_train=[]\n",
    "    k=0\n",
    "\n",
    "    for index in data.index:\n",
    "        swdata=data.loc[index,'swdata']      \n",
    "        swdata=np.asfarray(swdata.split(','))\n",
    "        rfdata=data.loc[index,'rftndata']      \n",
    "        rfdata=np.asfarray(rfdata.split(','))\n",
    "        #rftndata=rftn_reduce(rftndata)\n",
    "        swdata=intepsw1D(swdata)\n",
    "        rfdata=inteprftn(rfdata)\n",
    "        mtmodel=data.loc[index,'modeldata']     \n",
    "        mtmodel=np.asfarray(mtmodel.split(','))\n",
    "        mtmodel=intepmod1D(mtmodel)\n",
    "        #rftndata=rftn_reduce(rftndata)\n",
    "        #X_train.append(np.hstack((rftndata,swdata)))\n",
    "\n",
    "        X_sw.append(swdata)\n",
    "        X_rf.append(rfdata)\n",
    "        y_train.append(mtmodel)\n",
    "     \n",
    "    X_rf=np.array(X_rf)\n",
    "    X_sw=np.array(X_sw)\n",
    "    y_train=np.array(y_train)\n",
    "\n",
    "    return X_rf,X_sw,y_train\n",
    "\n",
    "\n",
    "def shuffle_batch(X, y, batch_size):\n",
    "    rnd_idx = np.random.permutation(len(X))\n",
    "    n_batches = len(X) // batch_size\n",
    "    for batch_idx in np.array_split(rnd_idx, n_batches):\n",
    "        X_batch, y_batch = X[batch_idx], y[batch_idx]\n",
    "        yield X_batch, y_batch"
   ]
  },
  {
   "cell_type": "code",
   "execution_count": 4,
   "metadata": {},
   "outputs": [],
   "source": [
    "n_outputs1=80\n",
    "smooth_marix=np.zeros((n_outputs1,n_outputs1))\n",
    "for i in range(len(smooth_marix)-1):\n",
    "    smooth_marix[i][i]=1\n",
    "    smooth_marix[i][i+1]=-1\n",
    "smooth_marix[-1][-2]=1\n",
    "smooth_marix[-1][-1]=-1\n",
    "smooth_marix=np.dot(np.transpose(smooth_marix), smooth_marix)\n",
    "\n",
    "class neuralNetwork:\n",
    "    def __init__(self):\n",
    "        \n",
    "        self.height =80\n",
    "        self.width = 1\n",
    "        self.channels = 2\n",
    "        self.n_inputs = self.height * self.width\n",
    "        self.n_outputs=80\n",
    "        #self.drop=0.8\n",
    "    def convolution_layer(self,X,conv1_fmaps,drop,lay_name):\n",
    "        conv = tf.layers.conv2d(X, filters=conv1_fmaps, kernel_size=[4,1],\n",
    "                         strides=1, padding=\"SAME\",activation=tf.nn.elu, name=lay_name)\n",
    "        \n",
    "        conv_drop=tf.nn.dropout(conv,drop)\n",
    "        return conv_drop\n",
    "    \n",
    "    def trans_convlution_layer(self,X,fmaps,lay_name):\n",
    "        t_conv = tf.layers.conv2d_transpose(X,filters=fmaps, kernel_size=[3,1],\n",
    "                                    strides=[2,1], padding=\"SAME\",name=lay_name)\n",
    "                                     \n",
    "        return t_conv\n",
    "        \n",
    "    def forward(self):\n",
    "        with tf.name_scope(\"inputs\"):\n",
    "            self.X = tf.placeholder(tf.float32, shape=[None, self.height, self.width, self.channels], name=\"X\")\n",
    "            self.y = tf.placeholder(tf.float32, shape=[None,self.n_outputs], name=\"y\")\n",
    "            self.alpha=tf.placeholder(tf.float32, shape=(), name=\"alpha\")\n",
    "            self.keep_prob= tf.placeholder(tf.float32, shape=(), name=\"regularizer\")\n",
    "           \n",
    "        self.L12=self.convolution_layer(self.X,32,1,'layerL12')\n",
    "        self.L13=self.convolution_layer(self.L12,32,1,'layerL13')\n",
    "        \n",
    "        self.L21 = tf.nn.max_pool(self.L13, ksize=[1, 2, 1, 1], strides=[1, 2, 1, 1],padding=\"SAME\")\n",
    "        self.L22=self.convolution_layer(self.L21,64,self.keep_prob,'layerL22')\n",
    "        self.L23=self.convolution_layer(self.L22,64,self.keep_prob,'layerL23')\n",
    "        \n",
    "        self.L31 = tf.nn.max_pool(self.L23, ksize=[1, 2, 1, 1], strides=[1, 2, 1, 1],padding=\"SAME\")\n",
    "        self.L32=self.convolution_layer(self.L31,128,self.keep_prob,'layerL32')\n",
    "        self.L33=self.convolution_layer(self.L32,128,self.keep_prob,'layerL33')\n",
    "        \n",
    "        self.L41 = tf.nn.max_pool(self.L33, ksize=[1, 2, 1, 1], strides=[1, 2, 1, 1],padding=\"SAME\")\n",
    "        self.L42=self.convolution_layer(self.L41,256,self.keep_prob,'layerL42')\n",
    "        self.L43=self.convolution_layer(self.L42,256,self.keep_prob,'layerL43')\n",
    "        \n",
    "#         self.L51 = tf.nn.max_pool(self.L43, ksize=[1, 2, 1, 1], strides=[1, 2, 1, 1],padding=\"SAME\")\n",
    "#         self.L52=self.convolution_layer(self.L51,512,self.keep_prob,'layerL52')\n",
    "#         self.L53=self.convolution_layer(self.L52,512,self.keep_prob,'layerL53')\n",
    "        \n",
    "#         self.R41=self.trans_convlution_layer(self.L53,256,'layerR41')\n",
    "#         self.R41=tf.concat([self.L43, self.R41], 3)\n",
    "#         self.R42=self.convolution_layer(self.R41,256,self.keep_prob,'layerR42')\n",
    "#         self.R43=self.convolution_layer(self.R42,256,self.keep_prob,'layerR43')\n",
    "        \n",
    "        self.R31=self.trans_convlution_layer(self.L43,128,'layerR31')\n",
    "        self.R31=tf.concat([self.L33, self.R31], 3)\n",
    "        self.R32=self.convolution_layer(self.R31,128,1,'layerR32')\n",
    "        self.R33=self.convolution_layer(self.R32,128,1,'layerR33')\n",
    "        \n",
    "        self.R21=self.trans_convlution_layer(self.R33,64,'layerR21')\n",
    "        self.R21=tf.concat([self.L23, self.R21], 3)\n",
    "        self.R22=self.convolution_layer(self.R21,64,1,'layerR22')\n",
    "        self.R23=self.convolution_layer(self.R22,64,1,'layerR23')\n",
    "        \n",
    "        self.R11=self.trans_convlution_layer(self.R23,32,'layerR11')\n",
    "        self.R11=tf.concat([self.L13, self.R11], 3)\n",
    "        self.R12=self.convolution_layer(self.R11,64,1,'layerR12')\n",
    "        self.R13=self.convolution_layer(self.R12,32,1,'layerR13')\n",
    "        self.R14=self.convolution_layer(self.R13,16,1,'layerR14')\n",
    "        self.R15=self.convolution_layer(self.R14,1,1,'layerR15')\n",
    "        \n",
    "        with tf.name_scope(\"train\"):\n",
    "            self.smooth_marix=tf.constant(np.transpose(smooth_marix),dtype=tf.float32)\n",
    "            self.output=tf.reshape(self.R15, shape=[-1, self.height])\n",
    "            self.sm=tf.reduce_mean(tf.square(tf.matmul(self.output, self.smooth_marix)),axis=1)\n",
    "            self.loss1=tf.reduce_mean(tf.square(self.output - self.y),axis=1)\n",
    "            self.loss = tf.reduce_mean(self.loss1+self.alpha*self.sm)\n",
    "            optimizer = tf.train.AdamOptimizer()\n",
    "            self.training_op = optimizer.minimize(self.loss)\n",
    "        pass"
   ]
  },
  {
   "cell_type": "code",
   "execution_count": 5,
   "metadata": {},
   "outputs": [],
   "source": [
    "def contact_tier(Xmt_resdata,Xmt_phadata):\n",
    "    height = 80\n",
    "    width = 1\n",
    "    channels = 1\n",
    "    tier1=np.array(([(i+1)*0.1 for i in range(80)])*Xmt_resdata.shape[0])\n",
    "    tier1=tier1.reshape(-1,height,width,channels)\n",
    "    #Xsw_data=Xsw_data.reshape(-1,height,width,channels)\n",
    "    Xmt_resdata=Xmt_resdata.reshape(-1,height,width,channels)\n",
    "    #Xmt_phadata=Xmt_phadata.reshape(-1,height,width,channels)\n",
    "    print(Xmt_resdata.shape,Xmt_phadata.shape)\n",
    "    data1=np.concatenate((Xmt_resdata,tier1),axis=3)\n",
    "    return data1"
   ]
  },
  {
   "cell_type": "code",
   "execution_count": 22,
   "metadata": {},
   "outputs": [],
   "source": [
    "alldata=pd.read_csv('traindata_4.25.dat',sep=',',header=0,index_col=0)\n",
    "data_train,data_test=train_test_split(alldata,test_size=0.1)"
   ]
  },
  {
   "cell_type": "code",
   "execution_count": null,
   "metadata": {},
   "outputs": [],
   "source": []
  },
  {
   "cell_type": "code",
   "execution_count": null,
   "metadata": {},
   "outputs": [],
   "source": [
    "\n"
   ]
  },
  {
   "cell_type": "code",
   "execution_count": 23,
   "metadata": {},
   "outputs": [
    {
     "name": "stdout",
     "output_type": "stream",
     "text": [
      "(53999, 80, 1, 1) (53999, 80)\n",
      "(6000, 80, 1, 1) (6000, 80)\n"
     ]
    }
   ],
   "source": [
    "X_train_rf,X_train_sw,y_train=get_tran_test_data(data_train)\n",
    "X_train=contact_tier(X_train_rf,X_train_sw)\n",
    "X_test_rf,X_test_sw,y_test=get_tran_test_data(data_test)\n",
    "X_test=contact_tier(X_test_rf,X_test_sw)"
   ]
  },
  {
   "cell_type": "code",
   "execution_count": 24,
   "metadata": {},
   "outputs": [
    {
     "data": {
      "text/plain": [
       "(53999, 80, 1, 2)"
      ]
     },
     "execution_count": 24,
     "metadata": {},
     "output_type": "execute_result"
    }
   ],
   "source": [
    "X_train.shape"
   ]
  },
  {
   "cell_type": "code",
   "execution_count": 25,
   "metadata": {},
   "outputs": [],
   "source": [
    "tf.reset_default_graph()\n",
    "Unet_seis=neuralNetwork()\n",
    "\n",
    "Unet_seis.forward()\n",
    "sess = tf.Session()\n",
    "sess.run(tf.global_variables_initializer())\n",
    "\n"
   ]
  },
  {
   "cell_type": "code",
   "execution_count": 26,
   "metadata": {},
   "outputs": [
    {
     "data": {
      "text/plain": [
       "(6000, 80, 1, 2)"
      ]
     },
     "execution_count": 26,
     "metadata": {},
     "output_type": "execute_result"
    }
   ],
   "source": [
    "tem = sess.run(Unet_seis.X,feed_dict={Unet_seis.X:X_test,Unet_seis.y:y_test,Unet_seis.alpha:1,Unet_seis.keep_prob:1})\n",
    "tem.shape"
   ]
  },
  {
   "cell_type": "code",
   "execution_count": 27,
   "metadata": {
    "scrolled": true
   },
   "outputs": [
    {
     "name": "stdout",
     "output_type": "stream",
     "text": [
      "0 15.460921 15.461484 0.3\n",
      "1 0.06744561 0.06794806 0.3\n",
      "2 0.06666305 0.06717342 0.3\n",
      "3 0.06673689 0.0672401 0.3\n",
      "4 0.067667045 0.06818162 0.3\n",
      "5 0.0663679 0.06687914 0.3\n",
      "6 0.06634427 0.06684912 0.3\n",
      "7 0.066609785 0.06712433 0.3\n",
      "8 0.066091865 0.0665844 0.3\n",
      "9 0.06929506 0.06978453 0.3\n",
      "10 0.06845021 0.06893284 0.3\n",
      "11 0.06666416 0.067153096 0.3\n",
      "12 0.06580489 0.06629438 0.3\n",
      "13 0.06579452 0.06628303 0.3\n",
      "14 0.06736226 0.067850925 0.3\n",
      "15 0.06680686 0.067265905 0.3\n",
      "16 0.068429515 0.068969205 0.3\n",
      "17 0.06017199 0.06058126 0.3\n",
      "18 0.07965205 0.07988382 0.3\n",
      "19 0.03236256 0.032338493 0.3\n",
      "20 0.02901252 0.02898617 0.3\n",
      "21 0.028517572 0.028481333 0.3\n",
      "22 0.026654208 0.026671167 0.3\n",
      "23 0.025330484 0.025433354 0.3\n",
      "24 0.03022681 0.030398142 0.3\n",
      "25 0.02437418 0.024471408 0.3\n",
      "26 0.023749407 0.023840973 0.3\n",
      "27 0.021864403 0.021982953 0.3\n",
      "28 0.020959752 0.021144528 0.3\n",
      "29 0.019609459 0.019825831 0.3\n",
      "30 0.022286627 0.022471258 0.3\n",
      "31 0.01947402 0.019671535 0.3\n",
      "32 0.018474942 0.01860621 0.3\n",
      "33 0.0211666 0.021350687 0.3\n",
      "34 0.017915495 0.01811722 0.3\n",
      "35 0.018664576 0.018891301 0.3\n",
      "36 0.017020192 0.017211055 0.3\n",
      "37 0.017900838 0.018125683 0.3\n",
      "38 0.019798558 0.01995457 0.3\n",
      "39 0.017924542 0.018150717 0.3\n",
      "40 0.016498683 0.016764443 0.3\n",
      "41 0.017867591 0.018104998 0.3\n"
     ]
    },
    {
     "ename": "KeyboardInterrupt",
     "evalue": "",
     "output_type": "error",
     "traceback": [
      "\u001b[1;31m---------------------------------------------------------------------------\u001b[0m",
      "\u001b[1;31mKeyboardInterrupt\u001b[0m                         Traceback (most recent call last)",
      "\u001b[1;32m<ipython-input-27-d347a64675bb>\u001b[0m in \u001b[0;36m<module>\u001b[1;34m\u001b[0m\n\u001b[0;32m     15\u001b[0m         \u001b[1;32mbreak\u001b[0m\u001b[1;33m\u001b[0m\u001b[1;33m\u001b[0m\u001b[0m\n\u001b[0;32m     16\u001b[0m     \u001b[1;32mfor\u001b[0m \u001b[0mX_batch\u001b[0m\u001b[1;33m,\u001b[0m \u001b[0my_batch\u001b[0m \u001b[1;32min\u001b[0m \u001b[0mshuffle_batch\u001b[0m\u001b[1;33m(\u001b[0m\u001b[0mX_train\u001b[0m\u001b[1;33m,\u001b[0m\u001b[0my_train\u001b[0m\u001b[1;33m,\u001b[0m \u001b[0mbatch_size\u001b[0m\u001b[1;33m)\u001b[0m\u001b[1;33m:\u001b[0m\u001b[1;33m\u001b[0m\u001b[1;33m\u001b[0m\u001b[0m\n\u001b[1;32m---> 17\u001b[1;33m         \u001b[0msess\u001b[0m\u001b[1;33m.\u001b[0m\u001b[0mrun\u001b[0m\u001b[1;33m(\u001b[0m\u001b[0mUnet_seis\u001b[0m\u001b[1;33m.\u001b[0m\u001b[0mtraining_op\u001b[0m\u001b[1;33m,\u001b[0m\u001b[0mfeed_dict\u001b[0m\u001b[1;33m=\u001b[0m\u001b[1;33m{\u001b[0m\u001b[0mUnet_seis\u001b[0m\u001b[1;33m.\u001b[0m\u001b[0mX\u001b[0m\u001b[1;33m:\u001b[0m \u001b[0mX_batch\u001b[0m\u001b[1;33m,\u001b[0m\u001b[0mUnet_seis\u001b[0m\u001b[1;33m.\u001b[0m\u001b[0my\u001b[0m\u001b[1;33m:\u001b[0m\u001b[0my_batch\u001b[0m\u001b[1;33m,\u001b[0m\u001b[0mUnet_seis\u001b[0m\u001b[1;33m.\u001b[0m\u001b[0malpha\u001b[0m\u001b[1;33m:\u001b[0m\u001b[0malpha\u001b[0m\u001b[1;33m,\u001b[0m\u001b[0mUnet_seis\u001b[0m\u001b[1;33m.\u001b[0m\u001b[0mkeep_prob\u001b[0m\u001b[1;33m:\u001b[0m\u001b[1;36m0.8\u001b[0m\u001b[1;33m}\u001b[0m\u001b[1;33m)\u001b[0m\u001b[1;33m\u001b[0m\u001b[1;33m\u001b[0m\u001b[0m\n\u001b[0m\u001b[0;32m     18\u001b[0m     \u001b[1;31m#alpha=alpha*0.5\u001b[0m\u001b[1;33m\u001b[0m\u001b[1;33m\u001b[0m\u001b[1;33m\u001b[0m\u001b[0m\n\u001b[0;32m     19\u001b[0m \u001b[0mf\u001b[0m\u001b[1;33m.\u001b[0m\u001b[0mclose\u001b[0m\u001b[1;33m(\u001b[0m\u001b[1;33m)\u001b[0m\u001b[1;33m\u001b[0m\u001b[1;33m\u001b[0m\u001b[0m\n",
      "\u001b[1;32mD:\\Anaconda3\\envs\\tensorflow\\lib\\site-packages\\tensorflow_core\\python\\client\\session.py\u001b[0m in \u001b[0;36mrun\u001b[1;34m(self, fetches, feed_dict, options, run_metadata)\u001b[0m\n\u001b[0;32m    954\u001b[0m     \u001b[1;32mtry\u001b[0m\u001b[1;33m:\u001b[0m\u001b[1;33m\u001b[0m\u001b[1;33m\u001b[0m\u001b[0m\n\u001b[0;32m    955\u001b[0m       result = self._run(None, fetches, feed_dict, options_ptr,\n\u001b[1;32m--> 956\u001b[1;33m                          run_metadata_ptr)\n\u001b[0m\u001b[0;32m    957\u001b[0m       \u001b[1;32mif\u001b[0m \u001b[0mrun_metadata\u001b[0m\u001b[1;33m:\u001b[0m\u001b[1;33m\u001b[0m\u001b[1;33m\u001b[0m\u001b[0m\n\u001b[0;32m    958\u001b[0m         \u001b[0mproto_data\u001b[0m \u001b[1;33m=\u001b[0m \u001b[0mtf_session\u001b[0m\u001b[1;33m.\u001b[0m\u001b[0mTF_GetBuffer\u001b[0m\u001b[1;33m(\u001b[0m\u001b[0mrun_metadata_ptr\u001b[0m\u001b[1;33m)\u001b[0m\u001b[1;33m\u001b[0m\u001b[1;33m\u001b[0m\u001b[0m\n",
      "\u001b[1;32mD:\\Anaconda3\\envs\\tensorflow\\lib\\site-packages\\tensorflow_core\\python\\client\\session.py\u001b[0m in \u001b[0;36m_run\u001b[1;34m(self, handle, fetches, feed_dict, options, run_metadata)\u001b[0m\n\u001b[0;32m   1178\u001b[0m     \u001b[1;32mif\u001b[0m \u001b[0mfinal_fetches\u001b[0m \u001b[1;32mor\u001b[0m \u001b[0mfinal_targets\u001b[0m \u001b[1;32mor\u001b[0m \u001b[1;33m(\u001b[0m\u001b[0mhandle\u001b[0m \u001b[1;32mand\u001b[0m \u001b[0mfeed_dict_tensor\u001b[0m\u001b[1;33m)\u001b[0m\u001b[1;33m:\u001b[0m\u001b[1;33m\u001b[0m\u001b[1;33m\u001b[0m\u001b[0m\n\u001b[0;32m   1179\u001b[0m       results = self._do_run(handle, final_targets, final_fetches,\n\u001b[1;32m-> 1180\u001b[1;33m                              feed_dict_tensor, options, run_metadata)\n\u001b[0m\u001b[0;32m   1181\u001b[0m     \u001b[1;32melse\u001b[0m\u001b[1;33m:\u001b[0m\u001b[1;33m\u001b[0m\u001b[1;33m\u001b[0m\u001b[0m\n\u001b[0;32m   1182\u001b[0m       \u001b[0mresults\u001b[0m \u001b[1;33m=\u001b[0m \u001b[1;33m[\u001b[0m\u001b[1;33m]\u001b[0m\u001b[1;33m\u001b[0m\u001b[1;33m\u001b[0m\u001b[0m\n",
      "\u001b[1;32mD:\\Anaconda3\\envs\\tensorflow\\lib\\site-packages\\tensorflow_core\\python\\client\\session.py\u001b[0m in \u001b[0;36m_do_run\u001b[1;34m(self, handle, target_list, fetch_list, feed_dict, options, run_metadata)\u001b[0m\n\u001b[0;32m   1357\u001b[0m     \u001b[1;32mif\u001b[0m \u001b[0mhandle\u001b[0m \u001b[1;32mis\u001b[0m \u001b[1;32mNone\u001b[0m\u001b[1;33m:\u001b[0m\u001b[1;33m\u001b[0m\u001b[1;33m\u001b[0m\u001b[0m\n\u001b[0;32m   1358\u001b[0m       return self._do_call(_run_fn, feeds, fetches, targets, options,\n\u001b[1;32m-> 1359\u001b[1;33m                            run_metadata)\n\u001b[0m\u001b[0;32m   1360\u001b[0m     \u001b[1;32melse\u001b[0m\u001b[1;33m:\u001b[0m\u001b[1;33m\u001b[0m\u001b[1;33m\u001b[0m\u001b[0m\n\u001b[0;32m   1361\u001b[0m       \u001b[1;32mreturn\u001b[0m \u001b[0mself\u001b[0m\u001b[1;33m.\u001b[0m\u001b[0m_do_call\u001b[0m\u001b[1;33m(\u001b[0m\u001b[0m_prun_fn\u001b[0m\u001b[1;33m,\u001b[0m \u001b[0mhandle\u001b[0m\u001b[1;33m,\u001b[0m \u001b[0mfeeds\u001b[0m\u001b[1;33m,\u001b[0m \u001b[0mfetches\u001b[0m\u001b[1;33m)\u001b[0m\u001b[1;33m\u001b[0m\u001b[1;33m\u001b[0m\u001b[0m\n",
      "\u001b[1;32mD:\\Anaconda3\\envs\\tensorflow\\lib\\site-packages\\tensorflow_core\\python\\client\\session.py\u001b[0m in \u001b[0;36m_do_call\u001b[1;34m(self, fn, *args)\u001b[0m\n\u001b[0;32m   1363\u001b[0m   \u001b[1;32mdef\u001b[0m \u001b[0m_do_call\u001b[0m\u001b[1;33m(\u001b[0m\u001b[0mself\u001b[0m\u001b[1;33m,\u001b[0m \u001b[0mfn\u001b[0m\u001b[1;33m,\u001b[0m \u001b[1;33m*\u001b[0m\u001b[0margs\u001b[0m\u001b[1;33m)\u001b[0m\u001b[1;33m:\u001b[0m\u001b[1;33m\u001b[0m\u001b[1;33m\u001b[0m\u001b[0m\n\u001b[0;32m   1364\u001b[0m     \u001b[1;32mtry\u001b[0m\u001b[1;33m:\u001b[0m\u001b[1;33m\u001b[0m\u001b[1;33m\u001b[0m\u001b[0m\n\u001b[1;32m-> 1365\u001b[1;33m       \u001b[1;32mreturn\u001b[0m \u001b[0mfn\u001b[0m\u001b[1;33m(\u001b[0m\u001b[1;33m*\u001b[0m\u001b[0margs\u001b[0m\u001b[1;33m)\u001b[0m\u001b[1;33m\u001b[0m\u001b[1;33m\u001b[0m\u001b[0m\n\u001b[0m\u001b[0;32m   1366\u001b[0m     \u001b[1;32mexcept\u001b[0m \u001b[0merrors\u001b[0m\u001b[1;33m.\u001b[0m\u001b[0mOpError\u001b[0m \u001b[1;32mas\u001b[0m \u001b[0me\u001b[0m\u001b[1;33m:\u001b[0m\u001b[1;33m\u001b[0m\u001b[1;33m\u001b[0m\u001b[0m\n\u001b[0;32m   1367\u001b[0m       \u001b[0mmessage\u001b[0m \u001b[1;33m=\u001b[0m \u001b[0mcompat\u001b[0m\u001b[1;33m.\u001b[0m\u001b[0mas_text\u001b[0m\u001b[1;33m(\u001b[0m\u001b[0me\u001b[0m\u001b[1;33m.\u001b[0m\u001b[0mmessage\u001b[0m\u001b[1;33m)\u001b[0m\u001b[1;33m\u001b[0m\u001b[1;33m\u001b[0m\u001b[0m\n",
      "\u001b[1;32mD:\\Anaconda3\\envs\\tensorflow\\lib\\site-packages\\tensorflow_core\\python\\client\\session.py\u001b[0m in \u001b[0;36m_run_fn\u001b[1;34m(feed_dict, fetch_list, target_list, options, run_metadata)\u001b[0m\n\u001b[0;32m   1348\u001b[0m       \u001b[0mself\u001b[0m\u001b[1;33m.\u001b[0m\u001b[0m_extend_graph\u001b[0m\u001b[1;33m(\u001b[0m\u001b[1;33m)\u001b[0m\u001b[1;33m\u001b[0m\u001b[1;33m\u001b[0m\u001b[0m\n\u001b[0;32m   1349\u001b[0m       return self._call_tf_sessionrun(options, feed_dict, fetch_list,\n\u001b[1;32m-> 1350\u001b[1;33m                                       target_list, run_metadata)\n\u001b[0m\u001b[0;32m   1351\u001b[0m \u001b[1;33m\u001b[0m\u001b[0m\n\u001b[0;32m   1352\u001b[0m     \u001b[1;32mdef\u001b[0m \u001b[0m_prun_fn\u001b[0m\u001b[1;33m(\u001b[0m\u001b[0mhandle\u001b[0m\u001b[1;33m,\u001b[0m \u001b[0mfeed_dict\u001b[0m\u001b[1;33m,\u001b[0m \u001b[0mfetch_list\u001b[0m\u001b[1;33m)\u001b[0m\u001b[1;33m:\u001b[0m\u001b[1;33m\u001b[0m\u001b[1;33m\u001b[0m\u001b[0m\n",
      "\u001b[1;32mD:\\Anaconda3\\envs\\tensorflow\\lib\\site-packages\\tensorflow_core\\python\\client\\session.py\u001b[0m in \u001b[0;36m_call_tf_sessionrun\u001b[1;34m(self, options, feed_dict, fetch_list, target_list, run_metadata)\u001b[0m\n\u001b[0;32m   1441\u001b[0m     return tf_session.TF_SessionRun_wrapper(self._session, options, feed_dict,\n\u001b[0;32m   1442\u001b[0m                                             \u001b[0mfetch_list\u001b[0m\u001b[1;33m,\u001b[0m \u001b[0mtarget_list\u001b[0m\u001b[1;33m,\u001b[0m\u001b[1;33m\u001b[0m\u001b[1;33m\u001b[0m\u001b[0m\n\u001b[1;32m-> 1443\u001b[1;33m                                             run_metadata)\n\u001b[0m\u001b[0;32m   1444\u001b[0m \u001b[1;33m\u001b[0m\u001b[0m\n\u001b[0;32m   1445\u001b[0m   \u001b[1;32mdef\u001b[0m \u001b[0m_call_tf_sessionprun\u001b[0m\u001b[1;33m(\u001b[0m\u001b[0mself\u001b[0m\u001b[1;33m,\u001b[0m \u001b[0mhandle\u001b[0m\u001b[1;33m,\u001b[0m \u001b[0mfeed_dict\u001b[0m\u001b[1;33m,\u001b[0m \u001b[0mfetch_list\u001b[0m\u001b[1;33m)\u001b[0m\u001b[1;33m:\u001b[0m\u001b[1;33m\u001b[0m\u001b[1;33m\u001b[0m\u001b[0m\n",
      "\u001b[1;31mKeyboardInterrupt\u001b[0m: "
     ]
    }
   ],
   "source": [
    "batch_size = 600\n",
    "nepoch=80\n",
    "alpha=0.3\n",
    "f=open('loss.dat','w')\n",
    "for epoch in range(nepoch):\n",
    "    #tem = sess.run(DNN_eq.loss,feed_dict={DNN_eq.X: X_train,DNN_eq.y:y_train})\n",
    "    #print(tem)\n",
    "    \n",
    "    loss_train = sess.run(Unet_seis.loss,feed_dict={Unet_seis.X: X_train,Unet_seis.y:y_train,Unet_seis.alpha:alpha,Unet_seis.keep_prob:1})\n",
    "    loss_test = sess.run(Unet_seis.loss,feed_dict={Unet_seis.X: X_test,Unet_seis.y:y_test,Unet_seis.alpha:alpha,Unet_seis.keep_prob:1})\n",
    "    f.write('%d %f %f %f\\n' %(epoch,loss_train,loss_test,alpha))\n",
    "    \n",
    "    print(epoch,loss_train,loss_test,alpha)\n",
    "    if(loss_train<0.01):\n",
    "        break\n",
    "    for X_batch, y_batch in shuffle_batch(X_train,y_train, batch_size):\n",
    "        sess.run(Unet_seis.training_op,feed_dict={Unet_seis.X: X_batch,Unet_seis.y:y_batch,Unet_seis.alpha:alpha,Unet_seis.keep_prob:0.8})\n",
    "    #alpha=alpha*0.5\n",
    "f.close()"
   ]
  },
  {
   "cell_type": "code",
   "execution_count": 31,
   "metadata": {},
   "outputs": [
    {
     "data": {
      "text/plain": [
       "'Unetmodel/Unet_seis12.27.ckpt'"
      ]
     },
     "execution_count": 31,
     "metadata": {},
     "output_type": "execute_result"
    }
   ],
   "source": [
    "saver=tf.train.Saver()\n",
    "saver.save(sess,'Unetmodel/Unet_seis12.27.ckpt')"
   ]
  },
  {
   "cell_type": "code",
   "execution_count": 29,
   "metadata": {},
   "outputs": [
    {
     "data": {
      "image/png": "[encoded data removed]",
      "text/plain": [
       "<Figure size 432x288 with 1 Axes>"
      ]
     },
     "metadata": {
      "needs_background": "light"
     },
     "output_type": "display_data"
    }
   ],
   "source": [
    "y_predi = sess.run(Unet_seis.output,feed_dict={Unet_seis.X: X_test,Unet_seis.y:y_test,Unet_seis.keep_prob:1})\n",
    "N=59\n",
    "dep1=[]\n",
    "vel1=[0 for i in  range(N)]\n",
    "s=0\n",
    "for i in range(N):\n",
    "    dep1.append(s)\n",
    "    if(i<20):\n",
    "        s=s+0.2\n",
    "    elif(i<40):\n",
    "        s=s+1\n",
    "    else:\n",
    "        s=s+2.0   \n",
    "    xs = np.linspace(0,60,80)\n",
    "for i in range(100):\n",
    "    plt.cla()  \n",
    "    ax=plt.gca()\n",
    "    plt.xlabel('Velicity[km/s]',fontsize=20)\n",
    "    plt.ylabel('Depth[km]',fontsize=20)\n",
    "    plt.grid(linestyle='-.')\n",
    "    plt.tick_params(labelsize=20)\n",
    "    ax.invert_yaxis()\n",
    "    plt.subplots_adjust(top=0.95,bottom=0.18,left=0.17,right=0.97)\n",
    "    line1,=plt.plot(y_test[i],xs,linewidth=1.5,marker='o',color='blue')\n",
    "    line2,=plt.plot(y_predi[i],xs,linewidth=1.5,marker='o',color='red')\n",
    "    ll=plt.legend([line1,line2],['True',\"Prediction\"],loc='lower left',fontsize=20)\n",
    "    plt.savefig('plot/'+str(i)+'.png',dpi=(150.0))"
   ]
  },
  {
   "cell_type": "code",
   "execution_count": null,
   "metadata": {},
   "outputs": [],
   "source": []
  },
  {
   "cell_type": "code",
   "execution_count": null,
   "metadata": {},
   "outputs": [],
   "source": []
  },
  {
   "cell_type": "code",
   "execution_count": null,
   "metadata": {},
   "outputs": [],
   "source": []
  },
  {
   "cell_type": "code",
   "execution_count": 30,
   "metadata": {},
   "outputs": [
    {
     "name": "stdout",
     "output_type": "stream",
     "text": [
      "(1000, 80)\n"
     ]
    },
    {
     "data": {
      "image/png": "[encoded data removed]",
      "text/plain": [
       "<Figure size 432x288 with 2 Axes>"
      ]
     },
     "metadata": {
      "needs_background": "light"
     },
     "output_type": "display_data"
    }
   ],
   "source": [
    "y_predi = sess.run(Unet_seis.output,feed_dict={Unet_seis.X: X_test,Unet_seis.y:y_test,Unet_seis.keep_prob:1})\n",
    "from scipy import interpolate \n",
    "N=5000\n",
    "N1=1000\n",
    "N2=80\n",
    "proba=[[0 for i in range(N2)] for j in range(N1)]\n",
    "proba=np.array(proba)\n",
    "de=2.0/N1\n",
    "for i in range(N):\n",
    "    tem=y_predi[i]-y_test[i]\n",
    "    for j in range(len(tem)):\n",
    "        if(tem[j]>-1 and tem[j]<1):\n",
    "            k=int(tem[j]/de+N1/2)\n",
    "            #print(k)\n",
    "            proba[k][j]=proba[k][j]+1\n",
    "max1=np.max(proba)            \n",
    "print(proba.shape)\n",
    "proba=proba/max1\n",
    "\n",
    "dep=np.linspace(0,60,80)\n",
    "err=np.linspace(-1,1,1000)\n",
    "newfunc = interpolate.interp2d(dep, err, proba, kind='cubic') \n",
    "\n",
    "xnew = np.linspace(0,60,2000)#x \n",
    "ynew = np.linspace(-1,1,2000)#y \n",
    "fnew = newfunc(xnew, ynew)\n",
    "im1=plt.imshow(fnew,extent=[0,2,-1,1])\n",
    "plt.colorbar(im1) \n",
    "plt.show()"
   ]
  },
  {
   "cell_type": "code",
   "execution_count": 39,
   "metadata": {},
   "outputs": [],
   "source": [
    "f=open('proba.dat','w')\n",
    "for i in range(N1):\n",
    "    for j in range(N2):\n",
    "        f.write('%f '%(proba[i][j]))\n",
    "    f.write('\\n')\n",
    "f.close()"
   ]
  },
  {
   "cell_type": "code",
   "execution_count": null,
   "metadata": {},
   "outputs": [],
   "source": []
  },
  {
   "cell_type": "code",
   "execution_count": null,
   "metadata": {},
   "outputs": [],
   "source": []
  }
 ],
 "metadata": {
  "kernelspec": {
   "display_name": "Python 3",
   "language": "python",
   "name": "python3"
  },
  "language_info": {
   "codemirror_mode": {
    "name": "ipython",
    "version": 3
   },
   "file_extension": ".py",
   "mimetype": "text/x-python",
   "name": "python",
   "nbconvert_exporter": "python",
   "pygments_lexer": "ipython3",
   "version": "3.7.10"
  }
 },
 "nbformat": 4,
 "nbformat_minor": 4
}
